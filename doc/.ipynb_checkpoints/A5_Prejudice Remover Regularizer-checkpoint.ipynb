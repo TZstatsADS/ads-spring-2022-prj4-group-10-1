{
 "cells": [
  {
   "cell_type": "code",
   "execution_count": 137,
   "metadata": {
    "id": "2K0MkjHpsRms"
   },
   "outputs": [],
   "source": [
    "import numpy as np\n",
    "import pandas as pd\n",
    "import torch as t\n",
    "import torch.nn as nn\n",
    "from torch.nn import functional as F\n",
    "from sklearn.model_selection import train_test_split\n",
    "import matplotlib.pyplot as plt\n",
    "from sklearn.metrics import confusion_matrix, accuracy_score, f1_score, roc_curve, auc\n",
    "from sklearn import calibration"
   ]
  },
  {
   "cell_type": "code",
   "execution_count": 2,
   "metadata": {
    "colab": {
     "base_uri": "https://localhost:8080/"
    },
    "id": "fMqGjVPpsaG9",
    "outputId": "991698c9-419e-4247-9850-db42bf7c59ca"
   },
   "outputs": [
    {
     "name": "stdout",
     "output_type": "stream",
     "text": [
      "Mounted at /gdrive\n"
     ]
    }
   ],
   "source": [
    "from google.colab import drive\n",
    "drive.mount('/gdrive')"
   ]
  },
  {
   "cell_type": "code",
   "execution_count": 21,
   "metadata": {
    "id": "bOFemJvushcs"
   },
   "outputs": [],
   "source": [
    "root = \"/gdrive/MyDrive/5243_proj4/\"\n",
    "data_dir = root + \"data/\""
   ]
  },
  {
   "cell_type": "markdown",
   "metadata": {
    "id": "vpouSvQ9zESs"
   },
   "source": [
    "##1 Data Preprocessing\n",
    "\n"
   ]
  },
  {
   "cell_type": "code",
   "execution_count": 84,
   "metadata": {
    "id": "Ulw9G7lwsRmw"
   },
   "outputs": [],
   "source": [
    "raw_data=pd.read_csv(data_dir + 'compas-scores-two-years.csv')"
   ]
  },
  {
   "cell_type": "code",
   "execution_count": 79,
   "metadata": {
    "colab": {
     "base_uri": "https://localhost:8080/"
    },
    "id": "oHKWo5UqtL0_",
    "outputId": "22ee99f5-a539-48c7-81ed-2931e9ac4ceb"
   },
   "outputs": [
    {
     "data": {
      "text/plain": [
       "(7214, 53)"
      ]
     },
     "execution_count": 79,
     "metadata": {},
     "output_type": "execute_result"
    }
   ],
   "source": [
    "raw_data.shape"
   ]
  },
  {
   "cell_type": "code",
   "execution_count": 85,
   "metadata": {
    "colab": {
     "base_uri": "https://localhost:8080/"
    },
    "id": "Xix6_Op5uRky",
    "outputId": "02a5b756-ec55-46c7-9a93-8d115cb7bf1b"
   },
   "outputs": [
    {
     "data": {
      "text/plain": [
       "(6172, 13)"
      ]
     },
     "execution_count": 85,
     "metadata": {},
     "output_type": "execute_result"
    }
   ],
   "source": [
    "df = raw_data[['age', 'c_charge_degree', 'race', 'age_cat',\n",
    "                    'score_text', 'sex', 'priors_count', 'days_b_screening_arrest',\n",
    "                    'decile_score', 'is_recid', 'c_jail_in',\n",
    "                    'c_jail_out', 'two_year_recid']]\\\n",
    "                    .query('days_b_screening_arrest <= 30')\\\n",
    "                    .query('days_b_screening_arrest >= -30')\\\n",
    "                    .query('is_recid != -1')\\\n",
    "                    .query('c_charge_degree != \"O\"')\\\n",
    "                    .query('score_text != \"N/A\"')\n",
    "df.shape"
   ]
  },
  {
   "cell_type": "code",
   "execution_count": 86,
   "metadata": {
    "id": "I7MnVD0Mv2f2"
   },
   "outputs": [],
   "source": [
    "df['length_of_stay']=df['c_jail_out'].apply(pd.to_datetime) - df['c_jail_in'].apply(pd.to_datetime)\n",
    "df['length_of_stay']=df['length_of_stay'].dt.days"
   ]
  },
  {
   "cell_type": "code",
   "execution_count": 83,
   "metadata": {
    "id": "Lk92oij9yr3S"
   },
   "outputs": [],
   "source": [
    "races = ['African-American', 'Caucasian']\n",
    "df = df[df.race.isin(races)]\n",
    "df.loc[df.race=='Caucasian','race']=1\n",
    "df.loc[df.race=='African-American','race']=0"
   ]
  },
  {
   "cell_type": "code",
   "execution_count": 89,
   "metadata": {
    "id": "t0DzhXtwyTrR"
   },
   "outputs": [],
   "source": [
    "cat_var = ['c_charge_degree','race','sex','age_cat','score_text','is_recid','two_year_recid','length_of_stay']\n",
    "\n",
    "for var in cat_var:\n",
    "    df[var] = df[var].astype('category').cat.codes"
   ]
  },
  {
   "cell_type": "code",
   "execution_count": 91,
   "metadata": {
    "id": "fLLlBez329my"
   },
   "outputs": [],
   "source": [
    "df=df[['sex','age_cat','decile_score','priors_count','days_b_screening_arrest','c_charge_degree','is_recid','score_text','length_of_stay',\"race\", 'two_year_recid']]"
   ]
  },
  {
   "cell_type": "code",
   "execution_count": 92,
   "metadata": {
    "colab": {
     "base_uri": "https://localhost:8080/",
     "height": 206
    },
    "id": "hMH4nFSVsRm2",
    "outputId": "ec0cc871-f6ca-4dac-e95d-b39a2bf3f9b9"
   },
   "outputs": [
    {
     "data": {
      "text/html": [
       "\n",
       "  <div id=\"df-ce50cf0a-b387-41fa-bd58-67dc09b7cadc\">\n",
       "    <div class=\"colab-df-container\">\n",
       "      <div>\n",
       "<style scoped>\n",
       "    .dataframe tbody tr th:only-of-type {\n",
       "        vertical-align: middle;\n",
       "    }\n",
       "\n",
       "    .dataframe tbody tr th {\n",
       "        vertical-align: top;\n",
       "    }\n",
       "\n",
       "    .dataframe thead th {\n",
       "        text-align: right;\n",
       "    }\n",
       "</style>\n",
       "<table border=\"1\" class=\"dataframe\">\n",
       "  <thead>\n",
       "    <tr style=\"text-align: right;\">\n",
       "      <th></th>\n",
       "      <th></th>\n",
       "      <th>count</th>\n",
       "    </tr>\n",
       "    <tr>\n",
       "      <th>race</th>\n",
       "      <th>two_year_recid</th>\n",
       "      <th></th>\n",
       "    </tr>\n",
       "  </thead>\n",
       "  <tbody>\n",
       "    <tr>\n",
       "      <th rowspan=\"2\" valign=\"top\">0</th>\n",
       "      <th>0</th>\n",
       "      <td>1514</td>\n",
       "    </tr>\n",
       "    <tr>\n",
       "      <th>1</th>\n",
       "      <td>1661</td>\n",
       "    </tr>\n",
       "    <tr>\n",
       "      <th rowspan=\"2\" valign=\"top\">1</th>\n",
       "      <th>0</th>\n",
       "      <td>1281</td>\n",
       "    </tr>\n",
       "    <tr>\n",
       "      <th>1</th>\n",
       "      <td>822</td>\n",
       "    </tr>\n",
       "  </tbody>\n",
       "</table>\n",
       "</div>\n",
       "      <button class=\"colab-df-convert\" onclick=\"convertToInteractive('df-ce50cf0a-b387-41fa-bd58-67dc09b7cadc')\"\n",
       "              title=\"Convert this dataframe to an interactive table.\"\n",
       "              style=\"display:none;\">\n",
       "        \n",
       "  <svg xmlns=\"http://www.w3.org/2000/svg\" height=\"24px\"viewBox=\"0 0 24 24\"\n",
       "       width=\"24px\">\n",
       "    <path d=\"M0 0h24v24H0V0z\" fill=\"none\"/>\n",
       "    <path d=\"M18.56 5.44l.94 2.06.94-2.06 2.06-.94-2.06-.94-.94-2.06-.94 2.06-2.06.94zm-11 1L8.5 8.5l.94-2.06 2.06-.94-2.06-.94L8.5 2.5l-.94 2.06-2.06.94zm10 10l.94 2.06.94-2.06 2.06-.94-2.06-.94-.94-2.06-.94 2.06-2.06.94z\"/><path d=\"M17.41 7.96l-1.37-1.37c-.4-.4-.92-.59-1.43-.59-.52 0-1.04.2-1.43.59L10.3 9.45l-7.72 7.72c-.78.78-.78 2.05 0 2.83L4 21.41c.39.39.9.59 1.41.59.51 0 1.02-.2 1.41-.59l7.78-7.78 2.81-2.81c.8-.78.8-2.07 0-2.86zM5.41 20L4 18.59l7.72-7.72 1.47 1.35L5.41 20z\"/>\n",
       "  </svg>\n",
       "      </button>\n",
       "      \n",
       "  <style>\n",
       "    .colab-df-container {\n",
       "      display:flex;\n",
       "      flex-wrap:wrap;\n",
       "      gap: 12px;\n",
       "    }\n",
       "\n",
       "    .colab-df-convert {\n",
       "      background-color: #E8F0FE;\n",
       "      border: none;\n",
       "      border-radius: 50%;\n",
       "      cursor: pointer;\n",
       "      display: none;\n",
       "      fill: #1967D2;\n",
       "      height: 32px;\n",
       "      padding: 0 0 0 0;\n",
       "      width: 32px;\n",
       "    }\n",
       "\n",
       "    .colab-df-convert:hover {\n",
       "      background-color: #E2EBFA;\n",
       "      box-shadow: 0px 1px 2px rgba(60, 64, 67, 0.3), 0px 1px 3px 1px rgba(60, 64, 67, 0.15);\n",
       "      fill: #174EA6;\n",
       "    }\n",
       "\n",
       "    [theme=dark] .colab-df-convert {\n",
       "      background-color: #3B4455;\n",
       "      fill: #D2E3FC;\n",
       "    }\n",
       "\n",
       "    [theme=dark] .colab-df-convert:hover {\n",
       "      background-color: #434B5C;\n",
       "      box-shadow: 0px 1px 3px 1px rgba(0, 0, 0, 0.15);\n",
       "      filter: drop-shadow(0px 1px 2px rgba(0, 0, 0, 0.3));\n",
       "      fill: #FFFFFF;\n",
       "    }\n",
       "  </style>\n",
       "\n",
       "      <script>\n",
       "        const buttonEl =\n",
       "          document.querySelector('#df-ce50cf0a-b387-41fa-bd58-67dc09b7cadc button.colab-df-convert');\n",
       "        buttonEl.style.display =\n",
       "          google.colab.kernel.accessAllowed ? 'block' : 'none';\n",
       "\n",
       "        async function convertToInteractive(key) {\n",
       "          const element = document.querySelector('#df-ce50cf0a-b387-41fa-bd58-67dc09b7cadc');\n",
       "          const dataTable =\n",
       "            await google.colab.kernel.invokeFunction('convertToInteractive',\n",
       "                                                     [key], {});\n",
       "          if (!dataTable) return;\n",
       "\n",
       "          const docLinkHtml = 'Like what you see? Visit the ' +\n",
       "            '<a target=\"_blank\" href=https://colab.research.google.com/notebooks/data_table.ipynb>data table notebook</a>'\n",
       "            + ' to learn more about interactive tables.';\n",
       "          element.innerHTML = '';\n",
       "          dataTable['output_type'] = 'display_data';\n",
       "          await google.colab.output.renderOutput(dataTable, element);\n",
       "          const docLink = document.createElement('div');\n",
       "          docLink.innerHTML = docLinkHtml;\n",
       "          element.appendChild(docLink);\n",
       "        }\n",
       "      </script>\n",
       "    </div>\n",
       "  </div>\n",
       "  "
      ],
      "text/plain": [
       "                     count\n",
       "race two_year_recid       \n",
       "0    0                1514\n",
       "     1                1661\n",
       "1    0                1281\n",
       "     1                 822"
      ]
     },
     "execution_count": 92,
     "metadata": {},
     "output_type": "execute_result"
    }
   ],
   "source": [
    "df.groupby(['race', 'two_year_recid'])['sex'].agg([ 'count'])"
   ]
  },
  {
   "cell_type": "code",
   "execution_count": 93,
   "metadata": {
    "id": "BZ7WgRV6sRm3"
   },
   "outputs": [],
   "source": [
    "df_aa=df[(df['race'] == 0)]\n",
    "del df_aa['race']\n",
    "df_c=df[(df['race'] == 1)]\n",
    "del df_c['race']"
   ]
  },
  {
   "cell_type": "markdown",
   "metadata": {
    "id": "57EFRKLS6aJk"
   },
   "source": [
    "\n",
    "\n",
    "*   Data Splitting\n",
    "\n"
   ]
  },
  {
   "cell_type": "code",
   "execution_count": 94,
   "metadata": {
    "id": "v1N5ds1K6p6E"
   },
   "outputs": [],
   "source": [
    "X_aa = df_aa.drop(columns = ['two_year_recid']).copy()\n",
    "y_aa = df_aa['two_year_recid']\n",
    "\n",
    "X_c = df_c.drop(columns = ['two_year_recid']).copy()\n",
    "y_c = df_c['two_year_recid']"
   ]
  },
  {
   "cell_type": "code",
   "execution_count": 95,
   "metadata": {
    "id": "HF4zbg7GsRm5"
   },
   "outputs": [],
   "source": [
    "#training:validation:testing=5:1:1\n",
    "\n",
    "df_aa_X_train, df_aa_X_rest, df_aa_y_train, df_aa_y_rest = train_test_split(X_aa,y_aa, train_size=5/7.0)\n",
    "df_aa_X_valid, df_aa_X_test, df_aa_y_valid, df_aa_y_test = train_test_split(df_aa_X_rest,df_aa_y_rest, test_size=0.5)\n",
    "\n",
    "df_c_X_train, df_c_X_rest, df_c_y_train, df_c_y_rest = train_test_split(X_c,y_c, train_size=5/7.0)\n",
    "df_c_X_valid, df_c_X_test, df_c_y_valid, df_c_y_test = train_test_split(df_c_X_rest,df_c_y_rest, test_size=0.5)\n"
   ]
  },
  {
   "cell_type": "code",
   "execution_count": 96,
   "metadata": {
    "id": "R3Zdxq0A7B3G"
   },
   "outputs": [],
   "source": [
    "X_train=pd.concat([df_aa_X_train,df_c_X_train])\n",
    "y_train=pd.concat([df_aa_y_train,df_c_y_train])\n",
    "X_valid=pd.concat([df_aa_X_valid,df_c_X_valid])\n",
    "y_valid=pd.concat([df_aa_y_valid,df_c_y_valid])\n",
    "X_test=pd.concat([df_aa_X_test,df_c_X_test])\n",
    "y_test=pd.concat([df_aa_y_test,df_c_y_test])"
   ]
  },
  {
   "cell_type": "code",
   "execution_count": 122,
   "metadata": {
    "id": "xZh59IjdsRm8"
   },
   "outputs": [],
   "source": [
    "df_c_X_train=t.tensor(np.array(df_c_X_train)).to(t.float32)\n",
    "df_c_y_train=t.from_numpy(np.array(df_c_y_train).astype('float32')).reshape(df_c_X_train.shape[0],1)\n",
    "df_aa_X_train=t.tensor(np.array(df_aa_X_train)).to(t.float32)\n",
    "df_aa_y_train=t.from_numpy(np.array(df_aa_y_train).astype('float32')).reshape(df_aa_X_train.shape[0],1)\n",
    "\n",
    "df_c_X_valid=t.tensor(np.array(df_c_X_valid)).to(t.float32)\n",
    "df_c_y_valid=t.from_numpy(np.array(df_c_y_valid).astype('float32')).reshape(df_c_X_valid.shape[0],1)\n",
    "df_aa_X_valid=t.tensor(np.array(df_aa_X_valid)).to(t.float32)\n",
    "df_aa_y_valid=t.from_numpy(np.array(df_aa_y_valid).astype('float32')).reshape(df_aa_X_valid.shape[0],1)\n",
    "\n",
    "df_c_X_test=t.tensor(np.array(df_c_X_test)).to(t.float32)\n",
    "df_c_y_test=t.from_numpy(np.array(df_c_y_test).astype('float32')).reshape(df_c_X_test.shape[0],1)\n",
    "df_aa_X_test=t.tensor(np.array(df_aa_X_test)).to(t.float32)\n",
    "df_aa_y_test=t.from_numpy(np.array(df_aa_y_test).astype('float32')).reshape(df_aa_X_test.shape[0],1)"
   ]
  },
  {
   "cell_type": "markdown",
   "metadata": {
    "id": "0pwz-lVL7hZR"
   },
   "source": [
    "\n",
    "### Evaluation Metrics\n",
    "*   Accuracy\n",
    "*   Calibration\n",
    "\n"
   ]
  },
  {
   "cell_type": "code",
   "execution_count": 143,
   "metadata": {
    "id": "O6SInj_L7f2u"
   },
   "outputs": [],
   "source": [
    "def accuracy( Model_c,Model_aa, df_c_X_train,df_c_y_train,df_aa_X_train,df_aa_y_train):\n",
    "    yc_pred = (Model_c(df_c_X_train) >= 0.5)\n",
    "    yaa_pred = (Model_aa(df_aa_X_train) >= 0.5)\n",
    "    accu_c  = t.sum(yc_pred.flatten() == df_c_y_train.flatten()) / df_c_X_train.shape[0]\n",
    "    accu_aa  = t.sum(yaa_pred.flatten() == df_aa_y_train.flatten()) / df_aa_X_train.shape[0]\n",
    "    accuracy = (accu_c + accu_aa) / 2\n",
    "    calibration=(accu_aa-accu_c)\n",
    "    return round(accuracy.item(),4),round(calibration.item(),4)\n",
    "    print(\"Accuracy : %.3f\" % (accuracy * 100)+'%')\n",
    "    print(\"Calibration : %.3f\" % (calibration * 100)+'%')"
   ]
  },
  {
   "cell_type": "code",
   "execution_count": 125,
   "metadata": {
    "id": "IW7oTgfvCtK8"
   },
   "outputs": [],
   "source": [
    "def CVS(Model_c,Model_aa,df_c_X_train,df_aa_X_train):\n",
    "    yc_pred = (Model_c(df_c_X_train) >= 0.5)\n",
    "    yaa_pred = (Model_aa(df_aa_X_train) >= 0.5)\n",
    "    corr_c = t.sum(yc_pred == True)\n",
    "    corr_aa = t.sum(yaa_pred == True)\n",
    "    P_y1_s1 = corr_c / df_c_X_train.shape[0]\n",
    "    P_y1_s0 = corr_aa / df_aa_X_train.shape[0]\n",
    "    CV_score = t.abs(P_y1_s0 - P_y1_s1)\n",
    "    return round(CV_score.item(),4)"
   ]
  },
  {
   "cell_type": "markdown",
   "metadata": {
    "id": "uE8ntXm_sRm9"
   },
   "source": [
    "### Baseline Model: Logistic Regression"
   ]
  },
  {
   "cell_type": "code",
   "execution_count": 100,
   "metadata": {
    "id": "dGf_OePKsRnA"
   },
   "outputs": [],
   "source": [
    "#Logistic refression with PR\n",
    "class LogisticRegression(nn.Module):\n",
    "    def __init__(self,df):\n",
    "        super(LogisticRegression, self).__init__()\n",
    "        self.w = nn.Linear(df.shape[1], out_features=1, bias=True)\n",
    "        self.sigmod = nn.Sigmoid()\n",
    "    def forward(self,x):\n",
    "        w = self.w(x)\n",
    "        output = self.sigmod(w)\n",
    "        return output"
   ]
  },
  {
   "cell_type": "markdown",
   "metadata": {
    "id": "YVwGVWQCsRnD"
   },
   "source": [
    "### With Prejudice Remover Regularizer"
   ]
  },
  {
   "cell_type": "code",
   "execution_count": 106,
   "metadata": {
    "id": "CIUnAFTVsRnE"
   },
   "outputs": [],
   "source": [
    "class PRR():\n",
    "    def __init__(self, eta=1.0):\n",
    "        super(PRR, self).__init__()\n",
    "        self.eta = eta\n",
    "    def forward(self,output_c,output_a):\n",
    "        # Pr[y|s] = sum{(xi,si),si=s} sigma(xi,s) / D[xs]\n",
    "        #D[xs]\n",
    "        N_cau = t.tensor(output_c.shape[0])\n",
    "        N_aa   = t.tensor(output_a.shape[0])\n",
    "        Dxisi = t.stack((N_aa,N_cau),axis=0) \n",
    "        # Pr[y|s]\n",
    "        y_pred_cau = t.sum(output_c)\n",
    "        y_pred_aa   = t.sum(output_a)\n",
    "        P_ys = t.stack((y_pred_aa,y_pred_cau),axis=0) / Dxisi\n",
    "        # Pr[y]~sum{(xi,si)} sigma(xi,si) / |D[xs]|\n",
    "        P = t.cat((output_c,output_a),0)\n",
    "        P_y = t.sum(P) / (df_c_X_train.shape[0]+df_aa_X_train.shape[0])\n",
    "        # P(siyi)\n",
    "        P_s1y1 = t.log(P_ys[1]) - t.log(P_y)\n",
    "        P_s1y0 = t.log(1-P_ys[1]) - t.log(1-P_y)\n",
    "        P_s0y1 = t.log(P_ys[0]) - t.log(P_y)\n",
    "        P_s0y0 = t.log(1-P_ys[0]) - t.log(1-P_y)\n",
    "        # RPR\n",
    "        # PI=sum{xi,si}sum{y}M*ln(Pr[y|si]/Pr[y])=sum{xi,si}sum{y}M*ln(Pr[Y,S]/(Pr[S]pR[Y]))\n",
    "        PI_s1y1 = output_c * P_s1y1\n",
    "        PI_s1y0 =(1- output_c) * P_s1y0\n",
    "        PI_s0y1 = output_a * P_s0y1\n",
    "        PI_s0y0 = (1- output_a )* P_s0y0\n",
    "        PI = t.sum(PI_s1y1) + t.sum(PI_s1y0) + t.sum(PI_s0y1) + t.sum(PI_s0y0)\n",
    "        PI = self.eta * PI\n",
    "        return PI"
   ]
  },
  {
   "cell_type": "code",
   "execution_count": 144,
   "metadata": {
    "id": "UJ-SbQEvsRnF"
   },
   "outputs": [],
   "source": [
    "class PRLR():\n",
    "    def __init__(self, eta=0.0,epochs = 300,lr = 0.01):\n",
    "        super(PRLR, self).__init__()\n",
    "        self.eta = eta\n",
    "        self.epochs = epochs\n",
    "        self.lr = lr\n",
    "    def fit(self,df_c_X_train,df_c_y_train,df_aa_X_train,df_aa_y_train,df_c_X_val,df_c_y_val,df_aa_X_val,df_aa_y_val,df_c_X_test,df_c_y_test,df_aa_X_test,df_aa_y_test):\n",
    "        model_c = LogisticRegression(df_c_X_train)\n",
    "        model_a = LogisticRegression(df_aa_X_train)\n",
    "        criterion = nn.BCELoss(reduction='sum')\n",
    "        PI = PRR(eta=self.eta)\n",
    "        epochs = self.epochs\n",
    "        optimizer = t.optim.Adam(list(model_c.parameters())+ list(model_a.parameters()), self.lr, weight_decay=1e-5)\n",
    "        train_losses = []\n",
    "        val_losses = []\n",
    "        for epoch in range(epochs):\n",
    "            model_c.train()\n",
    "            model_a.train()\n",
    "            optimizer.zero_grad()\n",
    "            output_c = model_c(df_c_X_train)\n",
    "            output_a = model_a(df_aa_X_train)\n",
    "            logloss = criterion(output_c, df_c_y_train)+ criterion(output_a, df_aa_y_train)\n",
    "            PIloss = PI.forward(output_c,output_a)\n",
    "            loss = PIloss +logloss\n",
    "            loss.backward()\n",
    "            optimizer.step()\n",
    "            train_losses.append(loss)\n",
    "            output_c = model_c(df_c_X_val)\n",
    "            output_a = model_a(df_aa_X_val)\n",
    "            logloss = criterion(output_c, df_c_y_val)+ criterion(output_a, df_aa_y_val)\n",
    "            PIloss = PI.forward(output_c,output_a)\n",
    "            loss = PIloss +logloss\n",
    "            val_losses.append(loss)\n",
    "        model_c.eval()\n",
    "        model_a.eval()\n",
    "        accu = accuracy(model_c,model_a,df_c_X_train,df_c_y_train,df_aa_X_train,df_aa_y_train)\n",
    "        accu_val = accuracy(model_c,model_a,df_c_X_val,df_c_y_val,df_aa_X_val,df_aa_y_val)\n",
    "        accu_test = accuracy(model_c,model_a,df_c_X_test,df_c_y_test,df_aa_X_test,df_aa_y_test)\n",
    "        cvs = CVS(model_c,model_a,df_c_X_train, df_aa_X_train)\n",
    "        return accu, accu_val, accu_test,cvs"
   ]
  },
  {
   "cell_type": "code",
   "execution_count": 157,
   "metadata": {
    "id": "XT8VGXTVsRnG"
   },
   "outputs": [],
   "source": [
    "eta_value = [0.0,1.0,2.0,3.0,4.0,5.0,10.0,15.0,20.0,25.0,30.0]\n",
    "accur = list()\n",
    "accur_val = list()\n",
    "accur_test = list()\n",
    "cvss = list()\n",
    "for e in range(0,len(eta_value)):\n",
    "    PR = PRLR(eta = eta_value[e], epochs = 3000, lr = 0.01)\n",
    "    accur_eta,accur_val_eta,accur_test_eta,cvs = PR.fit(df_c_X_train,df_c_y_train,df_aa_X_train,df_aa_y_train,df_c_X_valid,df_c_y_valid,df_aa_X_valid,df_aa_y_valid,df_c_X_test,df_c_y_test,df_aa_X_test,df_aa_y_test)\n",
    "    accur.append(accur_eta)\n",
    "    accur_val.append(accur_val_eta)\n",
    "    accur_test.append(accur_test_eta)\n",
    "    cvss.append(cvs)"
   ]
  },
  {
   "cell_type": "code",
   "execution_count": 129,
   "metadata": {
    "colab": {
     "base_uri": "https://localhost:8080/",
     "height": 279
    },
    "id": "YTRV0zI8sRnH",
    "outputId": "d62946dd-9882-450c-cfcb-64cacb547e62"
   },
   "outputs": [
    {
     "data": {
      "image/png": "[encoded data removed]",
      "text/plain": [
       "<Figure size 432x288 with 1 Axes>"
      ]
     },
     "metadata": {
      "needs_background": "light"
     },
     "output_type": "display_data"
    }
   ],
   "source": [
    "eta_accu_train = [i[0] for i in accur]\n",
    "eta_accu_valid = [i[0] for i in accur_val]\n",
    "eta_accuv_test = [i[0] for i in accur_test]\n",
    "plt.plot(eta_value,eta_accu_train, label=\"train accuracy\")\n",
    "plt.plot(eta_value,eta_accu_valid, label=\"validation accuracy\")\n",
    "plt.plot(eta_value,eta_accuv_test, label=\"test accuracy\")\n",
    "plt.xlabel('Parameter eta for Prejudice Remover')\n",
    "plt.ylabel('Accuracy')\n",
    "plt.legend(loc=\"upper right\")\n",
    "plt.show()"
   ]
  },
  {
   "cell_type": "code",
   "execution_count": 158,
   "metadata": {
    "colab": {
     "base_uri": "https://localhost:8080/",
     "height": 279
    },
    "id": "o1jQs-SNsRnW",
    "outputId": "c590be9e-1c12-4f4f-eac0-86dfbeaa761d"
   },
   "outputs": [
    {
     "data": {
      "image/png": "[encoded data removed]",
      "text/plain": [
       "<Figure size 432x288 with 1 Axes>"
      ]
     },
     "metadata": {
      "needs_background": "light"
     },
     "output_type": "display_data"
    }
   ],
   "source": [
    "eta_accu_train = [i[1] for i in accur]\n",
    "plt.plot(eta_value,eta_accu_train, label=\"calibration\")\n",
    "plt.xlabel('Parameter for Prejudice Remover')\n",
    "plt.ylabel('Calibration')\n",
    "plt.legend(loc=\"upper right\")\n",
    "plt.show()"
   ]
  },
  {
   "cell_type": "code",
   "execution_count": 159,
   "metadata": {
    "colab": {
     "base_uri": "https://localhost:8080/",
     "height": 279
    },
    "id": "wmuVAYItsRnY",
    "outputId": "8d985c72-3a8e-4e69-8fe6-4b0f244be9be"
   },
   "outputs": [
    {
     "data": {
      "image/png": "[encoded data removed]",
      "text/plain": [
       "<Figure size 432x288 with 1 Axes>"
      ]
     },
     "metadata": {
      "needs_background": "light"
     },
     "output_type": "display_data"
    }
   ],
   "source": [
    "plt.plot(eta_value,cvss, label=\"CVD Score\")\n",
    "plt.xlabel('Parameter for Prejudice Remover')\n",
    "plt.ylabel('Calder-Verwer discrimination score')\n",
    "plt.legend(loc=\"upper right\")\n",
    "plt.show()"
   ]
  },
  {
   "cell_type": "markdown",
   "metadata": {
    "id": "JFhtHrgVsRnh"
   },
   "source": [
    "### Model in Paper"
   ]
  },
  {
   "cell_type": "code",
   "execution_count": 147,
   "metadata": {
    "id": "V1pUimNJsRnh"
   },
   "outputs": [],
   "source": [
    "PR_eta1 = PRLR(eta = 5.0, epochs = 3000, lr = 0.01)\n",
    "evaluation_metric = PR_eta1.fit(df_c_X_train,df_c_y_train,df_aa_X_train,df_aa_y_train,df_c_X_valid,df_c_y_valid,df_aa_X_valid,df_aa_y_valid,df_c_X_test,df_c_y_test,df_aa_X_test,df_aa_y_test)"
   ]
  },
  {
   "cell_type": "code",
   "execution_count": 156,
   "metadata": {
    "colab": {
     "base_uri": "https://localhost:8080/"
    },
    "id": "htXPV1kGLpWK",
    "outputId": "0a16657d-0dfa-4ae6-9380-32577c8d5fcf"
   },
   "outputs": [
    {
     "name": "stdout",
     "output_type": "stream",
     "text": [
      "The accuracy is 0.9741\n",
      "The calibration is -0.0186\n"
     ]
    }
   ],
   "source": [
    "print(\"The accuracy is \" + str(evaluation_metric[2][0]))\n",
    "print(\"The calibration is \" + str(evaluation_metric[2][1]))"
   ]
  }
 ],
 "metadata": {
  "colab": {
   "collapsed_sections": [],
   "name": "A5.ipynb",
   "provenance": []
  },
  "kernelspec": {
   "display_name": "Python 3",
   "language": "python",
   "name": "python3"
  },
  "language_info": {
   "codemirror_mode": {
    "name": "ipython",
    "version": 3
   },
   "file_extension": ".py",
   "mimetype": "text/x-python",
   "name": "python",
   "nbconvert_exporter": "python",
   "pygments_lexer": "ipython3",
   "version": "3.8.3"
  }
 },
 "nbformat": 4,
 "nbformat_minor": 1
}
