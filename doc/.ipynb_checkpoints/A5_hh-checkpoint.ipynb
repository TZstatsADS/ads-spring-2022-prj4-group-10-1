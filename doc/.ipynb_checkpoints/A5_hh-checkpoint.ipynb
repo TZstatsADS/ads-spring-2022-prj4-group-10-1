{
 "cells": [
  {
   "cell_type": "code",
   "execution_count": 1,
   "metadata": {
    "scrolled": true
   },
   "outputs": [],
   "source": [
    "# !pip install torch\n",
    "import torch as t\n",
    "import torch.nn as nn\n",
    "from torch.nn import functional as F\n",
    "import numpy as np\n",
    "import pandas as pd \n",
    "import re\n",
    "from sklearn.model_selection import train_test_split\n",
    "from sklearn.preprocessing import LabelEncoder\n",
    "import matplotlib.pyplot as plt"
   ]
  },
  {
   "cell_type": "markdown",
   "metadata": {},
   "source": [
    "## 1.Data Preprocessing"
   ]
  },
  {
   "cell_type": "code",
   "execution_count": 2,
   "metadata": {},
   "outputs": [],
   "source": [
    "df = pd.read_csv(\"cleaned_compas.csv\")\n",
    "df = df.drop(columns=[\"Unnamed: 0\"])"
   ]
  },
  {
   "cell_type": "code",
   "execution_count": 152,
   "metadata": {},
   "outputs": [
    {
     "data": {
      "text/html": [
       "<div>\n",
       "<style scoped>\n",
       "    .dataframe tbody tr th:only-of-type {\n",
       "        vertical-align: middle;\n",
       "    }\n",
       "\n",
       "    .dataframe tbody tr th {\n",
       "        vertical-align: top;\n",
       "    }\n",
       "\n",
       "    .dataframe thead th {\n",
       "        text-align: right;\n",
       "    }\n",
       "</style>\n",
       "<table border=\"1\" class=\"dataframe\">\n",
       "  <thead>\n",
       "    <tr style=\"text-align: right;\">\n",
       "      <th></th>\n",
       "      <th>age_cat</th>\n",
       "      <th>priors_count</th>\n",
       "      <th>two_year_recid</th>\n",
       "      <th>race_cat</th>\n",
       "      <th>gender_cat</th>\n",
       "      <th>charge_cat</th>\n",
       "      <th>length_stay</th>\n",
       "    </tr>\n",
       "  </thead>\n",
       "  <tbody>\n",
       "    <tr>\n",
       "      <th>0</th>\n",
       "      <td>0.5</td>\n",
       "      <td>0.0</td>\n",
       "      <td>1</td>\n",
       "      <td>0</td>\n",
       "      <td>0</td>\n",
       "      <td>1</td>\n",
       "      <td>0.5</td>\n",
       "    </tr>\n",
       "    <tr>\n",
       "      <th>1</th>\n",
       "      <td>0.0</td>\n",
       "      <td>1.0</td>\n",
       "      <td>1</td>\n",
       "      <td>0</td>\n",
       "      <td>0</td>\n",
       "      <td>1</td>\n",
       "      <td>0.0</td>\n",
       "    </tr>\n",
       "    <tr>\n",
       "      <th>2</th>\n",
       "      <td>0.5</td>\n",
       "      <td>1.0</td>\n",
       "      <td>1</td>\n",
       "      <td>1</td>\n",
       "      <td>0</td>\n",
       "      <td>1</td>\n",
       "      <td>0.0</td>\n",
       "    </tr>\n",
       "    <tr>\n",
       "      <th>3</th>\n",
       "      <td>0.5</td>\n",
       "      <td>0.0</td>\n",
       "      <td>0</td>\n",
       "      <td>1</td>\n",
       "      <td>1</td>\n",
       "      <td>0</td>\n",
       "      <td>0.0</td>\n",
       "    </tr>\n",
       "    <tr>\n",
       "      <th>4</th>\n",
       "      <td>0.0</td>\n",
       "      <td>0.5</td>\n",
       "      <td>1</td>\n",
       "      <td>1</td>\n",
       "      <td>0</td>\n",
       "      <td>1</td>\n",
       "      <td>0.0</td>\n",
       "    </tr>\n",
       "    <tr>\n",
       "      <th>...</th>\n",
       "      <td>...</td>\n",
       "      <td>...</td>\n",
       "      <td>...</td>\n",
       "      <td>...</td>\n",
       "      <td>...</td>\n",
       "      <td>...</td>\n",
       "      <td>...</td>\n",
       "    </tr>\n",
       "    <tr>\n",
       "      <th>5910</th>\n",
       "      <td>0.5</td>\n",
       "      <td>0.0</td>\n",
       "      <td>1</td>\n",
       "      <td>0</td>\n",
       "      <td>0</td>\n",
       "      <td>0</td>\n",
       "      <td>0.0</td>\n",
       "    </tr>\n",
       "    <tr>\n",
       "      <th>5911</th>\n",
       "      <td>0.0</td>\n",
       "      <td>0.0</td>\n",
       "      <td>0</td>\n",
       "      <td>0</td>\n",
       "      <td>0</td>\n",
       "      <td>1</td>\n",
       "      <td>0.0</td>\n",
       "    </tr>\n",
       "    <tr>\n",
       "      <th>5912</th>\n",
       "      <td>0.0</td>\n",
       "      <td>0.0</td>\n",
       "      <td>0</td>\n",
       "      <td>0</td>\n",
       "      <td>0</td>\n",
       "      <td>1</td>\n",
       "      <td>0.0</td>\n",
       "    </tr>\n",
       "    <tr>\n",
       "      <th>5913</th>\n",
       "      <td>0.0</td>\n",
       "      <td>0.0</td>\n",
       "      <td>0</td>\n",
       "      <td>0</td>\n",
       "      <td>0</td>\n",
       "      <td>1</td>\n",
       "      <td>0.0</td>\n",
       "    </tr>\n",
       "    <tr>\n",
       "      <th>5914</th>\n",
       "      <td>0.5</td>\n",
       "      <td>0.5</td>\n",
       "      <td>0</td>\n",
       "      <td>0</td>\n",
       "      <td>1</td>\n",
       "      <td>0</td>\n",
       "      <td>0.0</td>\n",
       "    </tr>\n",
       "  </tbody>\n",
       "</table>\n",
       "<p>5915 rows × 7 columns</p>\n",
       "</div>"
      ],
      "text/plain": [
       "      age_cat  priors_count  two_year_recid  race_cat  gender_cat  charge_cat  \\\n",
       "0         0.5           0.0               1         0           0           1   \n",
       "1         0.0           1.0               1         0           0           1   \n",
       "2         0.5           1.0               1         1           0           1   \n",
       "3         0.5           0.0               0         1           1           0   \n",
       "4         0.0           0.5               1         1           0           1   \n",
       "...       ...           ...             ...       ...         ...         ...   \n",
       "5910      0.5           0.0               1         0           0           0   \n",
       "5911      0.0           0.0               0         0           0           1   \n",
       "5912      0.0           0.0               0         0           0           1   \n",
       "5913      0.0           0.0               0         0           0           1   \n",
       "5914      0.5           0.5               0         0           1           0   \n",
       "\n",
       "      length_stay  \n",
       "0             0.5  \n",
       "1             0.0  \n",
       "2             0.0  \n",
       "3             0.0  \n",
       "4             0.0  \n",
       "...           ...  \n",
       "5910          0.0  \n",
       "5911          0.0  \n",
       "5912          0.0  \n",
       "5913          0.0  \n",
       "5914          0.0  \n",
       "\n",
       "[5915 rows x 7 columns]"
      ]
     },
     "execution_count": 152,
     "metadata": {},
     "output_type": "execute_result"
    }
   ],
   "source": [
    "df"
   ]
  },
  {
   "cell_type": "code",
   "execution_count": 153,
   "metadata": {},
   "outputs": [],
   "source": [
    "# Data splitting: training:validation:testing=5:1:1\n",
    "\n",
    "df_a = df[(df['race_cat'] == 0)]\n",
    "df_c = df[(df['race_cat'] == 1)]\n",
    "\n",
    "X_a = df_a.drop(columns = ['two_year_recid']).copy()\n",
    "y_a = df_a['two_year_recid']\n",
    "X_c = df_c.drop(columns = ['two_year_recid']).copy()\n",
    "y_c = df_c['two_year_recid']\n",
    "\n",
    "df_a_X_train, df_a_X_rem, df_a_y_train, df_a_y_rem = train_test_split(X_a,y_a, train_size=5/7.0)\n",
    "df_a_X_valid, df_a_X_test, df_a_y_valid, df_a_y_test = train_test_split(df_a_X_rem,df_a_y_rem, test_size=0.5)\n",
    "df_c_X_train, df_c_X_rem, df_c_y_train, df_c_y_rem = train_test_split(X_c,y_c, train_size=5/7.0)\n",
    "df_c_X_valid, df_c_X_test, df_c_y_valid, df_c_y_test = train_test_split(df_c_X_rem,df_c_y_rem, test_size=0.5)\n",
    "\n",
    "X_train=pd.concat([df_a_X_train,df_c_X_train])\n",
    "y_train=pd.concat([df_a_y_train,df_c_y_train])\n",
    "X_valid=pd.concat([df_a_X_valid,df_c_X_valid])\n",
    "y_valid=pd.concat([df_a_y_valid,df_c_y_valid])\n",
    "X_test=pd.concat([df_a_X_test,df_c_X_test])\n",
    "y_test=pd.concat([df_a_y_test,df_c_y_test])"
   ]
  },
  {
   "cell_type": "code",
   "execution_count": 154,
   "metadata": {},
   "outputs": [],
   "source": [
    "df_a_X_train=t.tensor(np.array(df_a_X_train)).to(t.float32)\n",
    "df_a_y_train=t.from_numpy(np.array(df_a_y_train).astype('float32')).reshape(df_a_X_train.shape[0],1)\n",
    "df_c_X_train=t.tensor(np.array(df_c_X_train)).to(t.float32)\n",
    "df_c_y_train=t.from_numpy(np.array(df_c_y_train).astype('float32')).reshape(df_c_X_train.shape[0],1)\n",
    "\n",
    "df_a_X_valid=t.tensor(np.array(df_a_X_valid)).to(t.float32)\n",
    "df_a_y_valid=t.from_numpy(np.array(df_a_y_valid).astype('float32')).reshape(df_a_X_valid.shape[0],1)\n",
    "df_c_X_valid=t.tensor(np.array(df_c_X_valid)).to(t.float32)\n",
    "df_c_y_valid=t.from_numpy(np.array(df_c_y_valid).astype('float32')).reshape(df_c_X_valid.shape[0],1)\n",
    "\n",
    "df_a_X_test=t.tensor(np.array(df_a_X_test)).to(t.float32)\n",
    "df_a_y_test=t.from_numpy(np.array(df_a_y_test).astype('float32')).reshape(df_a_X_test.shape[0],1)\n",
    "df_c_X_test=t.tensor(np.array(df_c_X_test)).to(t.float32)\n",
    "df_c_y_test=t.from_numpy(np.array(df_c_y_test).astype('float32')).reshape(df_c_X_test.shape[0],1)"
   ]
  },
  {
   "cell_type": "markdown",
   "metadata": {},
   "source": [
    "## 2.Define Logistic refression with PRLR:"
   ]
  },
  {
   "cell_type": "code",
   "execution_count": 155,
   "metadata": {},
   "outputs": [],
   "source": [
    "#Logistic refression with PR\n",
    "class LogisticRegression(nn.Module):\n",
    "    def __init__(self,df):\n",
    "        super(LogisticRegression, self).__init__()\n",
    "        self.w = nn.Linear(df.shape[1], out_features=1, bias=True)\n",
    "        self.sigmod = nn.Sigmoid()\n",
    "    def forward(self,x):\n",
    "        w = self.w(x)\n",
    "        output = self.sigmod(w)\n",
    "        return output"
   ]
  },
  {
   "cell_type": "code",
   "execution_count": 156,
   "metadata": {},
   "outputs": [],
   "source": [
    "class PRLoss():#using linear\n",
    "    def __init__(self, eta=1.0):\n",
    "        super(PRLoss, self).__init__()\n",
    "        self.eta = eta\n",
    "    def forward(self,output_c,output_a):\n",
    "\n",
    "        N_cau = t.tensor(output_c.shape[0])\n",
    "        N_aa   = t.tensor(output_a.shape[0])\n",
    "        Dxisi = t.stack((N_aa,N_cau),axis=0) \n",
    "\n",
    "        y_pred_cau = t.sum(output_c)\n",
    "        y_pred_aa   = t.sum(output_a)\n",
    "        P_ys = t.stack((y_pred_aa,y_pred_cau),axis=0) / Dxisi\n",
    "\n",
    "        P = t.cat((output_c,output_a),0)\n",
    "        P_y = t.sum(P) / (df_c_X_train.shape[0]+df_a_X_train.shape[0])\n",
    "\n",
    "        P_s1y1 = t.log(P_ys[1]) - t.log(P_y)\n",
    "        P_s1y0 = t.log(1-P_ys[1]) - t.log(1-P_y)\n",
    "        P_s0y1 = t.log(P_ys[0]) - t.log(P_y)\n",
    "        P_s0y0 = t.log(1-P_ys[0]) - t.log(1-P_y)\n",
    "\n",
    "        PI_s1y1 = output_c * P_s1y1\n",
    "        PI_s1y0 =(1- output_c) * P_s1y0\n",
    "        PI_s0y1 = output_a * P_s0y1\n",
    "        PI_s0y0 = (1- output_a )* P_s0y0\n",
    "        PI = t.sum(PI_s1y1) + t.sum(PI_s1y0) + t.sum(PI_s0y1) + t.sum(PI_s0y0)\n",
    "        PI = self.eta * PI\n",
    "        return PI"
   ]
  },
  {
   "cell_type": "markdown",
   "metadata": {},
   "source": [
    "## 3.Model Validation"
   ]
  },
  {
   "cell_type": "code",
   "execution_count": 157,
   "metadata": {},
   "outputs": [],
   "source": [
    "def accuracy( Model_c,Model_a, df_c_X_train,df_c_y_train,df_a_X_train,df_a_y_train):\n",
    "    yc_pred = (Model_c(df_c_X_train) >= 0.5)\n",
    "    ya_pred = (Model_a(df_a_X_train) >= 0.5)\n",
    "    accu_c  = t.sum(yc_pred.flatten() == df_c_y_train.flatten()) / df_c_X_train.shape[0]\n",
    "    accu_a  = t.sum(ya_pred.flatten() == df_a_y_train.flatten()) / df_a_X_train.shape[0]\n",
    "    accuracy = (accu_c + accu_a) / 2\n",
    "    calibration=abs(accu_c-accu_a)\n",
    "    return round(accuracy.item(),4),round(calibration.item(),4)\n",
    "    print(\"Accuracy : %.3f\" % (accuracy * 100)+'%')\n",
    "    print(\"Calibration : %.3f\" % (calibration * 100)+'%')\n",
    "\n",
    "def CVS(Model_c,Model_a,df_c_X_train,df_a_X_train):\n",
    "    yc_pred = (Model_c(df_c_X_train) >= 0.5)\n",
    "    ya_pred = (Model_a(df_a_X_train) >= 0.5)\n",
    "    corr_c = t.sum(yc_pred == True)\n",
    "    corr_a = t.sum(ya_pred == True)\n",
    "    P_y1_s1 = corr_c / df_c_X_train.shape[0]\n",
    "    P_y1_s0 = corr_a / df_a_X_train.shape[0]\n",
    "    CV_score = t.abs(P_y1_s0 - P_y1_s1)\n",
    "    return round(CV_score.item(),4)"
   ]
  },
  {
   "cell_type": "markdown",
   "metadata": {},
   "source": [
    "## 4.Model implementation: Logistic regression model with PR Regularizer"
   ]
  },
  {
   "cell_type": "code",
   "execution_count": 158,
   "metadata": {},
   "outputs": [],
   "source": [
    "class PRLR():\n",
    "    def __init__(self, eta=0.0,epochs = 300,lr = 0.01):\n",
    "        super(PRLR, self).__init__()\n",
    "        self.eta = eta\n",
    "        self.epochs = epochs\n",
    "        self.lr = lr\n",
    "    def fit(self,df_c_X_train,df_c_y_train,df_a_X_train,df_a_y_train,df_c_X_val,df_c_y_val,df_a_X_val,df_a_y_val,df_c_X_test,df_c_y_test,df_a_X_test,df_a_y_test):\n",
    "        model_c = LogisticRegression(df_c_X_train)\n",
    "        model_a = LogisticRegression(df_a_X_train)\n",
    "        criterion = nn.BCELoss(reduction='sum')\n",
    "        PI = PRLoss(eta=self.eta)\n",
    "        epochs = self.epochs\n",
    "        optimizer = t.optim.Adam(list(model_c.parameters())+ list(model_a.parameters()), self.lr, weight_decay=1e-5)\n",
    "        train_losses = []\n",
    "        val_losses = []\n",
    "        for epoch in range(epochs):\n",
    "            model_c.train()\n",
    "            model_a.train()\n",
    "            optimizer.zero_grad()\n",
    "            output_c = model_c(df_c_X_train)\n",
    "            output_a = model_a(df_a_X_train)\n",
    "            logloss = criterion(output_c, df_c_y_train)+ criterion(output_a, df_a_y_train)\n",
    "            PIloss = PI.forward(output_c,output_a)\n",
    "            loss = PIloss +logloss\n",
    "            loss.backward()\n",
    "            optimizer.step()\n",
    "            train_losses.append(loss)\n",
    "            output_c = model_c(df_c_X_val)\n",
    "            output_a = model_a(df_a_X_val)\n",
    "            logloss = criterion(output_c, df_c_y_val)+ criterion(output_a, df_a_y_val)\n",
    "            PIloss = PI.forward(output_c,output_a)\n",
    "            loss = PIloss +logloss\n",
    "            val_losses.append(loss)\n",
    "        model_c.eval()\n",
    "        model_a.eval()\n",
    "        accu = accuracy(model_c,model_a,df_c_X_train,df_c_y_train,df_a_X_train,df_a_y_train)\n",
    "        accu_val = accuracy(model_c,model_a,df_c_X_val,df_c_y_val,df_a_X_val,df_a_y_val)\n",
    "        accu_test = accuracy(model_c,model_a,df_c_X_test,df_c_y_test,df_a_X_test,df_a_y_test)\n",
    "        cvs = CVS(model_c,model_a,df_c_X_train, df_a_X_train)\n",
    "        return accu, accu_val, accu_test,cvs"
   ]
  },
  {
   "cell_type": "markdown",
   "metadata": {},
   "source": [
    "## 5.Results Plot"
   ]
  },
  {
   "cell_type": "code",
   "execution_count": 159,
   "metadata": {},
   "outputs": [
    {
     "name": "stdout",
     "output_type": "stream",
     "text": [
      "Theta Value: 0\n",
      "Theta Value: 1\n",
      "Theta Value: 2\n",
      "Theta Value: 3\n",
      "Theta Value: 4\n",
      "Theta Value: 5\n",
      "Theta Value: 10\n",
      "Theta Value: 15\n",
      "Theta Value: 20\n",
      "Theta Value: 25\n",
      "Theta Value: 30\n"
     ]
    }
   ],
   "source": [
    "eta_value = [0.0,1.0,2.0,3.0,4.0,5.0,10.0,15.0,20.0,25.0,30.0]\n",
    "accur = list()\n",
    "accur_val = list()\n",
    "accur_test = list()\n",
    "cvss = list()\n",
    "for k in range(0,len(eta_value)):\n",
    "    print(\"Theta Value: %d\" % eta_value[k])\n",
    "    PR = PRLR(eta = eta_value[e], epochs = 3000, lr = 0.01)\n",
    "    accur_eta,accur_val_eta,accur_test_eta,cvs = PR.fit(df_c_X_train,df_c_y_train,df_a_X_train,df_a_y_train,df_c_X_valid,df_c_y_valid,df_a_X_valid,df_a_y_valid,df_c_X_test,df_c_y_test,df_a_X_test,df_a_y_test)\n",
    "    accur.append(accur_eta)\n",
    "    accur_val.append(accur_val_eta)\n",
    "    accur_test.append(accur_test_eta)\n",
    "    cvss.append(cvs)\n",
    "    \n",
    "    "
   ]
  },
  {
   "cell_type": "code",
   "execution_count": 160,
   "metadata": {},
   "outputs": [
    {
     "data": {
      "image/png": "[encoded data removed]",
      "text/plain": [
       "<Figure size 432x288 with 1 Axes>"
      ]
     },
     "metadata": {
      "needs_background": "light"
     },
     "output_type": "display_data"
    }
   ],
   "source": [
    "eta_accu_train = [i[0] for i in accur]\n",
    "eta_accu_valid = [i[0] for i in accur_val]\n",
    "eta_accuv_test = [i[0] for i in accur_test]\n",
    "plt.plot(eta_value,eta_accu_train, label=\"train accuracy\")\n",
    "plt.plot(eta_value,eta_accu_valid, label=\"validation accuracy\")\n",
    "plt.plot(eta_value,eta_accuv_test, label=\"test accuracy\")\n",
    "plt.xlabel('Parameter for Prejudice Remover')\n",
    "plt.ylabel('Accuracy')\n",
    "plt.legend(loc=\"upper right\")\n",
    "plt.show()"
   ]
  },
  {
   "cell_type": "code",
   "execution_count": 161,
   "metadata": {},
   "outputs": [
    {
     "data": {
      "image/png": "[encoded data removed]",
      "text/plain": [
       "<Figure size 432x288 with 1 Axes>"
      ]
     },
     "metadata": {
      "needs_background": "light"
     },
     "output_type": "display_data"
    }
   ],
   "source": [
    "eta_accu_train = [i[1] for i in accur]\n",
    "plt.plot(eta_value,eta_accu_train, label=\"calibration\")\n",
    "plt.xlabel('Parameter for Prejudice Remover')\n",
    "plt.ylabel('Calibration')\n",
    "plt.legend(loc=\"upper right\")\n",
    "plt.show()"
   ]
  },
  {
   "cell_type": "code",
   "execution_count": 162,
   "metadata": {},
   "outputs": [
    {
     "data": {
      "image/png": "[encoded data removed]",
      "text/plain": [
       "<Figure size 432x288 with 1 Axes>"
      ]
     },
     "metadata": {
      "needs_background": "light"
     },
     "output_type": "display_data"
    }
   ],
   "source": [
    "plt.plot(eta_value,cvss, label=\"CVD Score\")\n",
    "plt.xlabel('Parameter for Prejudice Remover')\n",
    "plt.ylabel('Calder-Verwer discrimination score')\n",
    "plt.legend(loc=\"upper right\")\n",
    "plt.show()"
   ]
  },
  {
   "cell_type": "code",
   "execution_count": 163,
   "metadata": {},
   "outputs": [],
   "source": [
    "PR_eta1 = PRLR(eta = 5.0, epochs = 2000, lr = 0.01)\n",
    "evaluation = PR.fit(df_c_X_train,df_c_y_train,df_a_X_train,df_a_y_train,df_c_X_valid,df_c_y_valid,df_a_X_valid,df_a_y_valid,df_c_X_test,df_c_y_test,df_a_X_test,df_a_y_test)"
   ]
  },
  {
   "cell_type": "code",
   "execution_count": 164,
   "metadata": {},
   "outputs": [
    {
     "name": "stdout",
     "output_type": "stream",
     "text": [
      "The accuracy is 0.6363\n",
      "The calibration is 0.0275\n"
     ]
    }
   ],
   "source": [
    "print(\"The accuracy is \" + str(evaluation[2][0]))\n",
    "print(\"The calibration is \" + str(evaluation[2][1]))"
   ]
  },
  {
   "cell_type": "code",
   "execution_count": null,
   "metadata": {},
   "outputs": [],
   "source": []
  }
 ],
 "metadata": {
  "kernelspec": {
   "display_name": "Python 3",
   "language": "python",
   "name": "python3"
  },
  "language_info": {
   "codemirror_mode": {
    "name": "ipython",
    "version": 3
   },
   "file_extension": ".py",
   "mimetype": "text/x-python",
   "name": "python",
   "nbconvert_exporter": "python",
   "pygments_lexer": "ipython3",
   "version": "3.8.3"
  }
 },
 "nbformat": 4,
 "nbformat_minor": 5
}
